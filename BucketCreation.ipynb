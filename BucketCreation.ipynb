{
 "cells": [
  {
   "cell_type": "code",
   "execution_count": 1,
   "id": "8b3a072d",
   "metadata": {},
   "outputs": [
    {
     "name": "stdout",
     "output_type": "stream",
     "text": [
      "Requirement already satisfied: minio in /opt/anaconda3/lib/python3.11/site-packages (7.2.15)\n",
      "Requirement already satisfied: certifi in /opt/anaconda3/lib/python3.11/site-packages (from minio) (2024.8.30)\n",
      "Requirement already satisfied: urllib3 in /opt/anaconda3/lib/python3.11/site-packages (from minio) (2.0.7)\n",
      "Requirement already satisfied: argon2-cffi in /opt/anaconda3/lib/python3.11/site-packages (from minio) (21.3.0)\n",
      "Requirement already satisfied: pycryptodome in /opt/anaconda3/lib/python3.11/site-packages (from minio) (3.21.0)\n",
      "Requirement already satisfied: typing-extensions in /opt/anaconda3/lib/python3.11/site-packages (from minio) (4.9.0)\n",
      "Requirement already satisfied: argon2-cffi-bindings in /opt/anaconda3/lib/python3.11/site-packages (from argon2-cffi->minio) (21.2.0)\n",
      "Requirement already satisfied: cffi>=1.0.1 in /opt/anaconda3/lib/python3.11/site-packages (from argon2-cffi-bindings->argon2-cffi->minio) (1.16.0)\n",
      "Requirement already satisfied: pycparser in /opt/anaconda3/lib/python3.11/site-packages (from cffi>=1.0.1->argon2-cffi-bindings->argon2-cffi->minio) (2.21)\n",
      "Requirement already satisfied: python-dotenv in /opt/anaconda3/lib/python3.11/site-packages (0.21.0)\n"
     ]
    }
   ],
   "source": [
    "# Installing the required libraries using the pip Package Manager\n",
    "!pip install minio\n",
    "!pip install python-dotenv"
   ]
  },
  {
   "cell_type": "code",
   "execution_count": 2,
   "id": "5a324c6f",
   "metadata": {},
   "outputs": [],
   "source": [
    "# Importing Essential Libraries for MinIO\n",
    "\n",
    "from minio import Minio\n",
    "from minio.error import S3Error\n",
    "from dotenv import load_dotenv\n",
    "import os"
   ]
  },
  {
   "cell_type": "code",
   "execution_count": 3,
   "id": "05975f02",
   "metadata": {},
   "outputs": [],
   "source": [
    "# Establishing Connection to the MinIO Object Store\n",
    "\n",
    "load_dotenv()\n",
    "\n",
    "minio_client = Minio(\n",
    "    os.getenv(\"MINIO_ENDPOINT\"),\n",
    "    access_key=os.getenv(\"MINIO_ACCESS_KEY\"),\n",
    "    secret_key=os.getenv(\"MINIO_SECRET_KEY\"),\n",
    "    secure=os.getenv(\"MINIO_SECURE\") == \"True\"  \n",
    ")"
   ]
  },
  {
   "cell_type": "code",
   "execution_count": 4,
   "id": "7a89d08e",
   "metadata": {},
   "outputs": [],
   "source": [
    "# Defining the Bucket Name as \"zip-storage\"\n",
    "\n",
    "bucket_name = \"zip-storage\""
   ]
  },
  {
   "cell_type": "code",
   "execution_count": 5,
   "id": "bc16f8d6",
   "metadata": {},
   "outputs": [
    {
     "name": "stdout",
     "output_type": "stream",
     "text": [
      "Bucket 'zip-storage' Created Successfully.\n"
     ]
    }
   ],
   "source": [
    "# Implementation of an Exception Handler for Bucket Creation\n",
    "\n",
    "try:\n",
    "    if not minio_client.bucket_exists(bucket_name):\n",
    "        minio_client.make_bucket(bucket_name)\n",
    "        print(f\"Bucket '{bucket_name}' Created Successfully.\")\n",
    "    else:\n",
    "        print(f\"Bucket '{bucket_name}' Already Exists.\")\n",
    "except S3Error as e:\n",
    "    print(\"Error:\", e)"
   ]
  }
 ],
 "metadata": {
  "kernelspec": {
   "display_name": "Python 3 (ipykernel)",
   "language": "python",
   "name": "python3"
  },
  "language_info": {
   "codemirror_mode": {
    "name": "ipython",
    "version": 3
   },
   "file_extension": ".py",
   "mimetype": "text/x-python",
   "name": "python",
   "nbconvert_exporter": "python",
   "pygments_lexer": "ipython3",
   "version": "3.11.0"
  }
 },
 "nbformat": 4,
 "nbformat_minor": 5
}
