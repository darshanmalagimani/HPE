{
 "cells": [
  {
   "cell_type": "code",
   "execution_count": 1,
   "id": "27b738d7",
   "metadata": {},
   "outputs": [
    {
     "name": "stdout",
     "output_type": "stream",
     "text": [
      "Requirement already satisfied: minio in /opt/anaconda3/lib/python3.11/site-packages (7.2.15)\n",
      "Requirement already satisfied: certifi in /opt/anaconda3/lib/python3.11/site-packages (from minio) (2024.8.30)\n",
      "Requirement already satisfied: urllib3 in /opt/anaconda3/lib/python3.11/site-packages (from minio) (2.0.7)\n",
      "Requirement already satisfied: argon2-cffi in /opt/anaconda3/lib/python3.11/site-packages (from minio) (21.3.0)\n",
      "Requirement already satisfied: pycryptodome in /opt/anaconda3/lib/python3.11/site-packages (from minio) (3.21.0)\n",
      "Requirement already satisfied: typing-extensions in /opt/anaconda3/lib/python3.11/site-packages (from minio) (4.9.0)\n",
      "Requirement already satisfied: argon2-cffi-bindings in /opt/anaconda3/lib/python3.11/site-packages (from argon2-cffi->minio) (21.2.0)\n",
      "Requirement already satisfied: cffi>=1.0.1 in /opt/anaconda3/lib/python3.11/site-packages (from argon2-cffi-bindings->argon2-cffi->minio) (1.16.0)\n",
      "Requirement already satisfied: pycparser in /opt/anaconda3/lib/python3.11/site-packages (from cffi>=1.0.1->argon2-cffi-bindings->argon2-cffi->minio) (2.21)\n",
      "Requirement already satisfied: python-dotenv in /opt/anaconda3/lib/python3.11/site-packages (0.21.0)\n"
     ]
    }
   ],
   "source": [
    "# Installing MinIO Library using the pip Package Manager\n",
    "!pip install minio\n",
    "!pip install python-dotenv"
   ]
  },
  {
   "cell_type": "code",
   "execution_count": 2,
   "id": "0138cc86",
   "metadata": {},
   "outputs": [],
   "source": [
    "# Importing Essential Libraries for MinIO\n",
    "\n",
    "from minio import Minio\n",
    "from dotenv import load_dotenv\n",
    "import os"
   ]
  },
  {
   "cell_type": "code",
   "execution_count": 3,
   "id": "a1d1f1b8",
   "metadata": {},
   "outputs": [],
   "source": [
    "# Establishing Connection to the MinIO Object Store\n",
    "\n",
    "load_dotenv()\n",
    "\n",
    "minio_client = Minio(\n",
    "    os.getenv(\"MINIO_ENDPOINT\"),\n",
    "    access_key=os.getenv(\"MINIO_ACCESS_KEY\"),\n",
    "    secret_key=os.getenv(\"MINIO_SECRET_KEY\"),\n",
    "    secure=os.getenv(\"MINIO_SECURE\") == \"True\"  \n",
    ")"
   ]
  },
  {
   "cell_type": "code",
   "execution_count": 4,
   "id": "bbcfbaa9",
   "metadata": {},
   "outputs": [],
   "source": [
    "# Defining the Bucket Name as \"zip-storage\" & The Source Folder containing the .zip Files\n",
    "\n",
    "bucket_name = \"zip-storage\"\n",
    "zip_folder = \"./Zip Files\" \n",
    "\n",
    "# Ensure the folder exists\n",
    "if not os.path.exists(zip_folder):\n",
    "    print(\"Zip Folder Does Not Exist!\")\n",
    "    exit()"
   ]
  },
  {
   "cell_type": "code",
   "execution_count": 5,
   "id": "c5c3003b",
   "metadata": {},
   "outputs": [
    {
     "name": "stdout",
     "output_type": "stream",
     "text": [
      "Uploaded: InstallSetGenerationIssue.zip\n",
      "Uploaded: SuccessfulFirmwareUpdate.zip\n",
      "Uploaded: PowerFailureIssue.zip\n",
      "Uploaded: ComponentInstallationFailureIssue.zip\n",
      "\n",
      "All Zip Files Uploaded Successfully!\n"
     ]
    }
   ],
   "source": [
    "# Upload each .zip file to MinIO\n",
    "\n",
    "for file_name in os.listdir(zip_folder):\n",
    "    file_path = os.path.join(zip_folder, file_name)\n",
    "\n",
    "    if file_name.endswith(\".zip\"):  \n",
    "        minio_client.fput_object(bucket_name, file_name, file_path)\n",
    "        print(f\"Uploaded: {file_name}\")\n",
    "\n",
    "print(\"\\nAll Zip Files Uploaded Successfully!\")"
   ]
  }
 ],
 "metadata": {
  "kernelspec": {
   "display_name": "Python 3 (ipykernel)",
   "language": "python",
   "name": "python3"
  },
  "language_info": {
   "codemirror_mode": {
    "name": "ipython",
    "version": 3
   },
   "file_extension": ".py",
   "mimetype": "text/x-python",
   "name": "python",
   "nbconvert_exporter": "python",
   "pygments_lexer": "ipython3",
   "version": "3.11.0"
  }
 },
 "nbformat": 4,
 "nbformat_minor": 5
}
