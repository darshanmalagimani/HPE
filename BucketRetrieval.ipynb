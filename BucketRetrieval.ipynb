{
 "cells": [
  {
   "cell_type": "code",
   "execution_count": 1,
   "id": "d8c8d42a",
   "metadata": {},
   "outputs": [
    {
     "name": "stdout",
     "output_type": "stream",
     "text": [
      "Requirement already satisfied: minio in /opt/anaconda3/lib/python3.11/site-packages (7.2.15)\n",
      "Requirement already satisfied: certifi in /opt/anaconda3/lib/python3.11/site-packages (from minio) (2024.8.30)\n",
      "Requirement already satisfied: urllib3 in /opt/anaconda3/lib/python3.11/site-packages (from minio) (2.0.7)\n",
      "Requirement already satisfied: argon2-cffi in /opt/anaconda3/lib/python3.11/site-packages (from minio) (21.3.0)\n",
      "Requirement already satisfied: pycryptodome in /opt/anaconda3/lib/python3.11/site-packages (from minio) (3.21.0)\n",
      "Requirement already satisfied: typing-extensions in /opt/anaconda3/lib/python3.11/site-packages (from minio) (4.9.0)\n",
      "Requirement already satisfied: argon2-cffi-bindings in /opt/anaconda3/lib/python3.11/site-packages (from argon2-cffi->minio) (21.2.0)\n",
      "Requirement already satisfied: cffi>=1.0.1 in /opt/anaconda3/lib/python3.11/site-packages (from argon2-cffi-bindings->argon2-cffi->minio) (1.16.0)\n",
      "Requirement already satisfied: pycparser in /opt/anaconda3/lib/python3.11/site-packages (from cffi>=1.0.1->argon2-cffi-bindings->argon2-cffi->minio) (2.21)\n",
      "Requirement already satisfied: python-dotenv in /opt/anaconda3/lib/python3.11/site-packages (0.21.0)\n"
     ]
    }
   ],
   "source": [
    "# Installing MinIO Library using the pip Package Manager\n",
    "!pip install minio\n",
    "!pip install python-dotenv"
   ]
  },
  {
   "cell_type": "code",
   "execution_count": 2,
   "id": "40ee378c",
   "metadata": {},
   "outputs": [],
   "source": [
    "# Importing Essential Libraries for MinIO\n",
    "\n",
    "from minio import Minio\n",
    "from dotenv import load_dotenv\n",
    "import os\n",
    "import zipfile"
   ]
  },
  {
   "cell_type": "code",
   "execution_count": 3,
   "id": "2effaff5",
   "metadata": {},
   "outputs": [],
   "source": [
    "# Establishing Connection to the MinIO Object Store\n",
    "\n",
    "load_dotenv()\n",
    "\n",
    "minio_client = Minio(\n",
    "    os.getenv(\"MINIO_ENDPOINT\"),\n",
    "    access_key=os.getenv(\"MINIO_ACCESS_KEY\"),\n",
    "    secret_key=os.getenv(\"MINIO_SECRET_KEY\"),\n",
    "    secure=os.getenv(\"MINIO_SECURE\") == \"True\"  \n",
    ")"
   ]
  },
  {
   "cell_type": "code",
   "execution_count": 4,
   "id": "b10b091f",
   "metadata": {},
   "outputs": [],
   "source": [
    "# Defining the Bucket Name as \"zip-storage\" & Specifying the Path for Extraction of the Retrieved .zip file(s) \n",
    "\n",
    "bucket_name = \"zip-storage\"\n",
    "download_folder = \"./Extract\""
   ]
  },
  {
   "cell_type": "code",
   "execution_count": 5,
   "id": "ad291ab9",
   "metadata": {},
   "outputs": [],
   "source": [
    "# Verifying the path defined for the Retrieval Folder\n",
    "\n",
    "os.makedirs(download_folder, exist_ok=True)"
   ]
  },
  {
   "cell_type": "code",
   "execution_count": 6,
   "id": "0dcd01a1",
   "metadata": {},
   "outputs": [],
   "source": [
    "# Enumerating the objects present in the MinIO Store \n",
    "\n",
    "objects = minio_client.list_objects(bucket_name)"
   ]
  },
  {
   "cell_type": "code",
   "execution_count": 7,
   "id": "c32c904f",
   "metadata": {},
   "outputs": [
    {
     "name": "stdout",
     "output_type": "stream",
     "text": [
      "Successfully Downloaded : ComponentInstallationFailureIssue.zip\n",
      "Successfully Extracted : ComponentInstallationFailureIssue.zip to Path ./Extract/ComponentInstallationFailureIssue\n",
      "\n",
      "Successfully Downloaded : InstallSetGenerationIssue.zip\n",
      "Successfully Extracted : InstallSetGenerationIssue.zip to Path ./Extract/InstallSetGenerationIssue\n",
      "\n",
      "Successfully Downloaded : PowerFailureIssue.zip\n",
      "Successfully Extracted : PowerFailureIssue.zip to Path ./Extract/PowerFailureIssue\n",
      "\n",
      "Successfully Downloaded : SuccessfulFirmwareUpdate.zip\n",
      "Successfully Extracted : SuccessfulFirmwareUpdate.zip to Path ./Extract/SuccessfulFirmwareUpdate\n",
      "\n"
     ]
    }
   ],
   "source": [
    "# Performing object-wise operation to retrieve, extract and export the files to a specified path\n",
    "\n",
    "for obj in objects:\n",
    "    file_name = obj.object_name\n",
    "    file_path = os.path.join(download_folder, file_name)\n",
    "\n",
    "    # Download ZIP file\n",
    "    minio_client.fget_object(bucket_name, file_name, file_path)\n",
    "    print(f\"Successfully Downloaded : {file_name}\")\n",
    "\n",
    "    # Extract ZIP file\n",
    "    extract_path = os.path.join(download_folder, file_name.replace(\".zip\", \"\"))\n",
    "    os.makedirs(extract_path, exist_ok=True)\n",
    "\n",
    "    with zipfile.ZipFile(file_path, 'r') as zip_ref:\n",
    "        zip_ref.extractall(extract_path)\n",
    "        print(f\"Successfully Extracted : {file_name} to Path {extract_path}\\n\")\n",
    "\n",
    "    # Remove the ZIP file after Extraction\n",
    "    os.remove(file_path)"
   ]
  },
  {
   "cell_type": "code",
   "execution_count": 8,
   "id": "fde10e85",
   "metadata": {},
   "outputs": [
    {
     "name": "stdout",
     "output_type": "stream",
     "text": [
      "All Zip Files Retrieved & Extracted Successfully!\n"
     ]
    }
   ],
   "source": [
    "print(\"All Zip Files Retrieved & Extracted Successfully!\")"
   ]
  }
 ],
 "metadata": {
  "kernelspec": {
   "display_name": "Python 3 (ipykernel)",
   "language": "python",
   "name": "python3"
  },
  "language_info": {
   "codemirror_mode": {
    "name": "ipython",
    "version": 3
   },
   "file_extension": ".py",
   "mimetype": "text/x-python",
   "name": "python",
   "nbconvert_exporter": "python",
   "pygments_lexer": "ipython3",
   "version": "3.11.0"
  }
 },
 "nbformat": 4,
 "nbformat_minor": 5
}
